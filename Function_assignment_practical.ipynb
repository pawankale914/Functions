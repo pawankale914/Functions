{
 "cells": [
  {
   "cell_type": "markdown",
   "id": "7f322942-8b46-46e6-a873-3d3161f8d91b",
   "metadata": {},
   "source": [
    "Practical Questions"
   ]
  },
  {
   "cell_type": "raw",
   "id": "9df367cb-7bd5-42a0-a20d-361cf67e9f6f",
   "metadata": {},
   "source": [
    "Q1.Write a Python function that takes a list of numbers as input and returns the sum of all even numbers in\n",
    "the list.\n",
    "Answer:-"
   ]
  },
  {
   "cell_type": "code",
   "execution_count": 1,
   "id": "3981801f-8d67-4565-8ac1-44b12134e04a",
   "metadata": {},
   "outputs": [
    {
     "name": "stdin",
     "output_type": "stream",
     "text": [
      "Enter a number:  7\n"
     ]
    },
    {
     "name": "stdout",
     "output_type": "stream",
     "text": [
      "0\n",
      "2\n",
      "4\n",
      "6\n",
      "Sum of all the even numbers is 12\n"
     ]
    }
   ],
   "source": [
    "num = int(input('Enter a number: '))\n",
    "sum = 0\n",
    "i = 0\n",
    "while i <= num:\n",
    "    if i % 2 == 0:\n",
    "        print(i)\n",
    "        sum+=i\n",
    "    i+=1\n",
    "print(f\"Sum of all the even numbers is {sum}\")"
   ]
  },
  {
   "cell_type": "raw",
   "id": "ca1852cf-29c1-431a-8239-af51e87fb73b",
   "metadata": {},
   "source": [
    "Q2.Create a Python function that accepts a string and returns the reverse of that string.\n",
    "Answer:-"
   ]
  },
  {
   "cell_type": "code",
   "execution_count": 2,
   "id": "d4fac975-b0fc-4a04-bfb1-9972c0e66f6a",
   "metadata": {},
   "outputs": [
    {
     "name": "stdout",
     "output_type": "stream",
     "text": [
      "!dlroW ,olleH\n"
     ]
    }
   ],
   "source": [
    "def reverse_string(s):\n",
    "    return s[::-1]\n",
    "\n",
    "input_string = \"Hello, World!\"\n",
    "reversed_string = reverse_string(input_string)\n",
    "print(reversed_string)"
   ]
  },
  {
   "cell_type": "raw",
   "id": "2e88bb3a-53f4-4bed-bcfb-5772776fc9f3",
   "metadata": {},
   "source": [
    "Q3.Implement a Python function that takes a list of integers and returns a new list containing the squares of\n",
    "each number.\n",
    "Answer:-"
   ]
  },
  {
   "cell_type": "code",
   "execution_count": 5,
   "id": "19d81f67-8101-4a99-8a77-86e35f58d20e",
   "metadata": {},
   "outputs": [
    {
     "name": "stdout",
     "output_type": "stream",
     "text": [
      "[1, 4, 9, 16, 25]\n"
     ]
    }
   ],
   "source": [
    "def square_numbers(numbers):\n",
    "    return [x**2 for x in numbers]\n",
    "\n",
    "numbers = [1, 2, 3, 4, 5]\n",
    "squared_numbers = square_numbers(numbers)\n",
    "print(squared_numbers) \n"
   ]
  },
  {
   "cell_type": "raw",
   "id": "2d50b2b8-a4d3-47c5-b29f-0cfca9500cdf",
   "metadata": {},
   "source": [
    "Q4.Write a Python function that checks if a given number is prime or not from 1 to 200.\n",
    "Answer:-"
   ]
  },
  {
   "cell_type": "code",
   "execution_count": 6,
   "id": "3435e732-6c4b-46ba-960e-b1b284a71278",
   "metadata": {},
   "outputs": [
    {
     "name": "stdout",
     "output_type": "stream",
     "text": [
      "1 is not a prime number\n",
      "2 is a prime number\n",
      "3 is a prime number\n",
      "4 is not a prime number\n",
      "5 is a prime number\n",
      "6 is not a prime number\n",
      "7 is a prime number\n",
      "8 is not a prime number\n",
      "9 is not a prime number\n",
      "10 is not a prime number\n",
      "11 is a prime number\n",
      "12 is not a prime number\n",
      "13 is a prime number\n",
      "14 is not a prime number\n",
      "15 is not a prime number\n",
      "16 is not a prime number\n",
      "17 is a prime number\n",
      "18 is not a prime number\n",
      "19 is a prime number\n",
      "20 is not a prime number\n",
      "21 is not a prime number\n",
      "22 is not a prime number\n",
      "23 is a prime number\n",
      "24 is not a prime number\n",
      "25 is not a prime number\n",
      "26 is not a prime number\n",
      "27 is not a prime number\n",
      "28 is not a prime number\n",
      "29 is a prime number\n",
      "30 is not a prime number\n",
      "31 is a prime number\n",
      "32 is not a prime number\n",
      "33 is not a prime number\n",
      "34 is not a prime number\n",
      "35 is not a prime number\n",
      "36 is not a prime number\n",
      "37 is a prime number\n",
      "38 is not a prime number\n",
      "39 is not a prime number\n",
      "40 is not a prime number\n",
      "41 is a prime number\n",
      "42 is not a prime number\n",
      "43 is a prime number\n",
      "44 is not a prime number\n",
      "45 is not a prime number\n",
      "46 is not a prime number\n",
      "47 is a prime number\n",
      "48 is not a prime number\n",
      "49 is not a prime number\n",
      "50 is not a prime number\n",
      "51 is not a prime number\n",
      "52 is not a prime number\n",
      "53 is a prime number\n",
      "54 is not a prime number\n",
      "55 is not a prime number\n",
      "56 is not a prime number\n",
      "57 is not a prime number\n",
      "58 is not a prime number\n",
      "59 is a prime number\n",
      "60 is not a prime number\n",
      "61 is a prime number\n",
      "62 is not a prime number\n",
      "63 is not a prime number\n",
      "64 is not a prime number\n",
      "65 is not a prime number\n",
      "66 is not a prime number\n",
      "67 is a prime number\n",
      "68 is not a prime number\n",
      "69 is not a prime number\n",
      "70 is not a prime number\n",
      "71 is a prime number\n",
      "72 is not a prime number\n",
      "73 is a prime number\n",
      "74 is not a prime number\n",
      "75 is not a prime number\n",
      "76 is not a prime number\n",
      "77 is not a prime number\n",
      "78 is not a prime number\n",
      "79 is a prime number\n",
      "80 is not a prime number\n",
      "81 is not a prime number\n",
      "82 is not a prime number\n",
      "83 is a prime number\n",
      "84 is not a prime number\n",
      "85 is not a prime number\n",
      "86 is not a prime number\n",
      "87 is not a prime number\n",
      "88 is not a prime number\n",
      "89 is a prime number\n",
      "90 is not a prime number\n",
      "91 is not a prime number\n",
      "92 is not a prime number\n",
      "93 is not a prime number\n",
      "94 is not a prime number\n",
      "95 is not a prime number\n",
      "96 is not a prime number\n",
      "97 is a prime number\n",
      "98 is not a prime number\n",
      "99 is not a prime number\n",
      "100 is not a prime number\n",
      "101 is a prime number\n",
      "102 is not a prime number\n",
      "103 is a prime number\n",
      "104 is not a prime number\n",
      "105 is not a prime number\n",
      "106 is not a prime number\n",
      "107 is a prime number\n",
      "108 is not a prime number\n",
      "109 is a prime number\n",
      "110 is not a prime number\n",
      "111 is not a prime number\n",
      "112 is not a prime number\n",
      "113 is a prime number\n",
      "114 is not a prime number\n",
      "115 is not a prime number\n",
      "116 is not a prime number\n",
      "117 is not a prime number\n",
      "118 is not a prime number\n",
      "119 is not a prime number\n",
      "120 is not a prime number\n",
      "121 is not a prime number\n",
      "122 is not a prime number\n",
      "123 is not a prime number\n",
      "124 is not a prime number\n",
      "125 is not a prime number\n",
      "126 is not a prime number\n",
      "127 is a prime number\n",
      "128 is not a prime number\n",
      "129 is not a prime number\n",
      "130 is not a prime number\n",
      "131 is a prime number\n",
      "132 is not a prime number\n",
      "133 is not a prime number\n",
      "134 is not a prime number\n",
      "135 is not a prime number\n",
      "136 is not a prime number\n",
      "137 is a prime number\n",
      "138 is not a prime number\n",
      "139 is a prime number\n",
      "140 is not a prime number\n",
      "141 is not a prime number\n",
      "142 is not a prime number\n",
      "143 is not a prime number\n",
      "144 is not a prime number\n",
      "145 is not a prime number\n",
      "146 is not a prime number\n",
      "147 is not a prime number\n",
      "148 is not a prime number\n",
      "149 is a prime number\n",
      "150 is not a prime number\n",
      "151 is a prime number\n",
      "152 is not a prime number\n",
      "153 is not a prime number\n",
      "154 is not a prime number\n",
      "155 is not a prime number\n",
      "156 is not a prime number\n",
      "157 is a prime number\n",
      "158 is not a prime number\n",
      "159 is not a prime number\n",
      "160 is not a prime number\n",
      "161 is not a prime number\n",
      "162 is not a prime number\n",
      "163 is a prime number\n",
      "164 is not a prime number\n",
      "165 is not a prime number\n",
      "166 is not a prime number\n",
      "167 is a prime number\n",
      "168 is not a prime number\n",
      "169 is not a prime number\n",
      "170 is not a prime number\n",
      "171 is not a prime number\n",
      "172 is not a prime number\n",
      "173 is a prime number\n",
      "174 is not a prime number\n",
      "175 is not a prime number\n",
      "176 is not a prime number\n",
      "177 is not a prime number\n",
      "178 is not a prime number\n",
      "179 is a prime number\n",
      "180 is not a prime number\n",
      "181 is a prime number\n",
      "182 is not a prime number\n",
      "183 is not a prime number\n",
      "184 is not a prime number\n",
      "185 is not a prime number\n",
      "186 is not a prime number\n",
      "187 is not a prime number\n",
      "188 is not a prime number\n",
      "189 is not a prime number\n",
      "190 is not a prime number\n",
      "191 is a prime number\n",
      "192 is not a prime number\n",
      "193 is a prime number\n",
      "194 is not a prime number\n",
      "195 is not a prime number\n",
      "196 is not a prime number\n",
      "197 is a prime number\n",
      "198 is not a prime number\n",
      "199 is a prime number\n",
      "200 is not a prime number\n"
     ]
    }
   ],
   "source": [
    "def is_prime(num):\n",
    "    if num <= 1:\n",
    "        return False\n",
    "    for i in range(2, int(num**0.5) + 1):\n",
    "        if num % i == 0:\n",
    "            return False\n",
    "    return True\n",
    "\n",
    "for number in range(1, 201):\n",
    "    if is_prime(number):\n",
    "        print(f\"{number} is a prime number\")\n",
    "    else:\n",
    "        print(f\"{number} is not a prime number\")\n"
   ]
  },
  {
   "cell_type": "raw",
   "id": "571628d6-371b-4d62-8b24-ca2838c096d4",
   "metadata": {},
   "source": [
    "Q5.Create an iterator class in Python that generates the Fibonacci sequence up to a specified number of\n",
    "terms.\n",
    "Answer:-"
   ]
  },
  {
   "cell_type": "code",
   "execution_count": 7,
   "id": "9d1415e8-74a4-43b6-9105-553698ade33c",
   "metadata": {},
   "outputs": [
    {
     "name": "stdout",
     "output_type": "stream",
     "text": [
      "Fibonacci Series:  0 1 1 2 3 5 8 13 21 34\n"
     ]
    }
   ],
   "source": [
    "def fibonacci(n):\n",
    "    \n",
    "    l = [0,1] \n",
    "    for i in range(2,n):\n",
    "        l.append(l[-1]+l[-2])\n",
    "    return l\n",
    "\n",
    "#Main function\n",
    "if __name__ == \"__main__\":\n",
    "    n = 10\n",
    "\n",
    "    fibo = fibonacci(n)\n",
    "    \n",
    "    print(\"Fibonacci Series: \",*fibo)\n"
   ]
  },
  {
   "cell_type": "raw",
   "id": "d09db7e7-dead-4058-8cc7-29b5c8ed6b9b",
   "metadata": {},
   "source": [
    "Q6.Write a generator function in Python that yields the powers of 2 up to a given exponent\n",
    "Answer:-"
   ]
  },
  {
   "cell_type": "code",
   "execution_count": 1,
   "id": "fa8f0576-ae9f-490f-8812-b6a7df3a8251",
   "metadata": {},
   "outputs": [
    {
     "name": "stdin",
     "output_type": "stream",
     "text": [
      "Input the base number:  9\n",
      "Input the exponent:  9\n"
     ]
    },
    {
     "name": "stdout",
     "output_type": "stream",
     "text": [
      "Powers of 9 up to exponent 9:\n",
      "1\n",
      "9\n",
      "81\n",
      "729\n",
      "6561\n",
      "59049\n",
      "531441\n",
      "4782969\n",
      "43046721\n",
      "387420489\n"
     ]
    }
   ],
   "source": [
    "def power_generator(base, exponent):\n",
    "    result = 1\n",
    "    for i in range(exponent + 1):\n",
    "        yield result\n",
    "        result *= base\n",
    "\n",
    "base = int(input(\"Input the base number: \"))\n",
    "exponent = int(input(\"Input the exponent: \"))\n",
    "\n",
    "power_gen = power_generator(base, exponent)\n",
    "\n",
    "print(f\"Powers of {base} up to exponent {exponent}:\")\n",
    "for power in power_gen:\n",
    "    print(power)\n"
   ]
  },
  {
   "cell_type": "raw",
   "id": "dccdb3ea-291c-48c9-b086-05998541a530",
   "metadata": {},
   "source": [
    "Q7.Implement a generator function that reads a file line by line and yields each line as a string.\n",
    "Answer:-"
   ]
  },
  {
   "cell_type": "code",
   "execution_count": 25,
   "id": "92ee6743-9fc4-4bd2-ae13-e436d218af35",
   "metadata": {},
   "outputs": [
    {
     "ename": "SyntaxError",
     "evalue": "(unicode error) 'unicodeescape' codec can't decode bytes in position 2-3: truncated \\UXXXXXXXX escape (3960602664.py, line 7)",
     "output_type": "error",
     "traceback": [
      "\u001b[1;36m  Cell \u001b[1;32mIn[25], line 7\u001b[1;36m\u001b[0m\n\u001b[1;33m    file_path = 'C:\\Users\\Admin\\ac.txt'\u001b[0m\n\u001b[1;37m                ^\u001b[0m\n\u001b[1;31mSyntaxError\u001b[0m\u001b[1;31m:\u001b[0m (unicode error) 'unicodeescape' codec can't decode bytes in position 2-3: truncated \\UXXXXXXXX escape\n"
     ]
    }
   ],
   "source": [
    "def read_file_line_by_line(file_path):\n",
    "\n",
    "    with open(file_path, 'r') as file:\n",
    "        for line in file:\n",
    "            yield line.strip()\n",
    "\n",
    "file_path = 'C:\\Users\\Admin\\ac.txt'\n",
    "for line in read_file_line_by_line(file_path):\n",
    "    print(line)\n"
   ]
  },
  {
   "cell_type": "raw",
   "id": "e08135ee-ced2-46f9-a978-770309d502ad",
   "metadata": {},
   "source": [
    "Q8. Use a lambda function in Python to sort a list of tuples based on the second element of each tuple.\n",
    "Answer:-\n"
   ]
  },
  {
   "cell_type": "code",
   "execution_count": 21,
   "id": "d58ec033-9589-43fc-b300-192472b41e80",
   "metadata": {},
   "outputs": [
    {
     "name": "stdout",
     "output_type": "stream",
     "text": [
      "[(2, 1), (3, 2), (1, 3)]\n"
     ]
    }
   ],
   "source": [
    "list_of_tuples = [(1, 3), (3, 2), (2, 1)]\n",
    "\n",
    "sorted_list = sorted(list_of_tuples, key=lambda x: x[1])\n",
    "\n",
    "print(sorted_list)\n"
   ]
  },
  {
   "cell_type": "raw",
   "id": "425448e4-82d7-47f6-a207-4e56fa086aec",
   "metadata": {},
   "source": [
    " Q9.Write a Python program that uses `map()` to convert a list of temperatures from Celsius to Fahrenheit.\n",
    "Answer:-"
   ]
  },
  {
   "cell_type": "code",
   "execution_count": 23,
   "id": "c3540694-c526-46e7-a33e-654c5012683c",
   "metadata": {},
   "outputs": [
    {
     "name": "stdout",
     "output_type": "stream",
     "text": [
      "47.00 Celsius is equivalent to: 116.60 Fahrenheit\n"
     ]
    }
   ],
   "source": [
    "# Temperature in celsius degree\n",
    "celsius = 47\n",
    "\n",
    "fahrenheit = (celsius * 1.8) + 32\n",
    "\n",
    "print('%.2f Celsius is equivalent to: %.2f Fahrenheit'\n",
    "\t% (celsius, fahrenheit))\n"
   ]
  },
  {
   "cell_type": "raw",
   "id": "a9a12d40-3f8a-4636-956c-13bd241ece72",
   "metadata": {},
   "source": [
    "Q10.Create a Python program that uses `filter()` to remove all the vowels from a given string.\n",
    "Answer:-"
   ]
  },
  {
   "cell_type": "code",
   "execution_count": 24,
   "id": "d55ae5c9-aab4-4e9d-ae7c-ac8134a92578",
   "metadata": {},
   "outputs": [
    {
     "name": "stdout",
     "output_type": "stream",
     "text": [
      "hll wrld\n"
     ]
    }
   ],
   "source": [
    "def rem_vowel(string): \n",
    "\tvowels = ['a','e','i','o','u'] \n",
    "\tresult = [letter for letter in string if letter.lower() not in vowels] \n",
    "\tresult = ''.join(result) \n",
    "\tprint(result) \n",
    "\n",
    "string = \"hello world\"\n",
    "rem_vowel(string) "
   ]
  },
  {
   "cell_type": "code",
   "execution_count": 28,
   "id": "eea66aea-6a66-430b-9459-2a711d7ef5e7",
   "metadata": {},
   "outputs": [],
   "source": [
    "Q11.\n",
    "Answer:-"
   ]
  },
  {
   "cell_type": "code",
   "execution_count": 31,
   "id": "de0e525c-c8fe-451a-ba3c-da4cb747c00e",
   "metadata": {},
   "outputs": [],
   "source": [
    "orders = [ [\"34587\", \"Learning Python, Mark Lutz\", 4, 40.95],[\"98762\", \"Programming Python, Mark Lutz\", 5, 56.80],[\"77226\", \"Head First Python, Paul Barry\", 3,32.95],[\"88112\", \"Einführung in Python3, Bernd Klein\", \t3, 24.99]]\n",
    "\n",
    "invoice_totals = list(map(lambda x: x if x[1] >= min_order else (x[0], x[1] + 10),map(lambda x: (x[0],x[2] * x[3]), orders)))\n",
    "\n",
    "\n",
    "output1 = map(lambda x: (x[0],x[2] * x[3]), orders)\n",
    "\n",
    "output2 = map(lambda x: x if x[1] >= min_order else (x[0], x[1] + 10),map(lambda x: (x[0],x[2] * x[3]), orders))\n",
    "\n",
    "final = list(map(lambda x: x if x[1] >= min_order else (x[0], x[1] + 10),map(lambda x: (x[0],x[2] * x[3]), orders)))"
   ]
  },
  {
   "cell_type": "code",
   "execution_count": null,
   "id": "c5c19a98-cd5e-4643-86eb-734bfc7bc1fc",
   "metadata": {},
   "outputs": [],
   "source": []
  }
 ],
 "metadata": {
  "kernelspec": {
   "display_name": "Python 3 (ipykernel)",
   "language": "python",
   "name": "python3"
  },
  "language_info": {
   "codemirror_mode": {
    "name": "ipython",
    "version": 3
   },
   "file_extension": ".py",
   "mimetype": "text/x-python",
   "name": "python",
   "nbconvert_exporter": "python",
   "pygments_lexer": "ipython3",
   "version": "3.12.4"
  }
 },
 "nbformat": 4,
 "nbformat_minor": 5
}
