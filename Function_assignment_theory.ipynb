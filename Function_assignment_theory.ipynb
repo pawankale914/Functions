{
 "cells": [
  {
   "cell_type": "markdown",
   "id": "d0a8d180-7a9b-4bf8-bff2-38c5af94e62b",
   "metadata": {},
   "source": [
    "Theory Questions"
   ]
  },
  {
   "cell_type": "raw",
   "id": "f93f3d6e-1787-45e8-ab48-7f26512bf569",
   "metadata": {},
   "source": [
    "Q1.what is the difference between a function and a method in Python?\n",
    "Answer:-\n",
    "\n",
    "1. Method is called by its name, but                   Function is block of code that is also             \n",
    "   it is associated to an object (dependent).          called by its name. (independent).\n",
    "2. A method definition always includes ‘self’          The function can have different parameters or \n",
    "   as its first parameter.                             may not have any at all. If any data (parameters) \n",
    "                                                       are passed, they are passed explicitly.\n",
    "3. A method is implicitly passed to the object         It may or may not return any data.\n",
    "   on which it is invoked.\n",
    "4. It may or may not return any data.                  Function does not deal with Class and its instance concept.\n",
    "5. A method can operate on the data (instance          function can not operated by a class.\n",
    "   variables) that is contained by the\n",
    "   corresponding class\n",
    "6  ex."
   ]
  },
  {
   "cell_type": "code",
   "execution_count": 26,
   "id": "96ac3eef-baf8-40ab-9104-b2eaf435cfb8",
   "metadata": {},
   "outputs": [
    {
     "name": "stdout",
     "output_type": "stream",
     "text": [
      "-2\n",
      "9\n"
     ]
    }
   ],
   "source": [
    "#method ex\n",
    "def Subtract (a, b):\n",
    "    return (a-b)\n",
    " \n",
    "print( Subtract(10, 12) ) \n",
    " \n",
    "print( Subtract(15, 6) )"
   ]
  },
  {
   "cell_type": "code",
   "execution_count": 37,
   "id": "32c720fb-b834-4e65-8367-ba8ce9f4fc44",
   "metadata": {},
   "outputs": [
    {
     "name": "stdout",
     "output_type": "stream",
     "text": [
      "22\n",
      "15\n"
     ]
    }
   ],
   "source": [
    "#function ex\n",
    "s = sum([5, 15, 2])\n",
    "print(s)\n",
    "\n",
    "mx = max(15, 6)\n",
    "print( mx ) "
   ]
  },
  {
   "cell_type": "raw",
   "id": "a5cdebc6-dfe1-4f8e-abef-af9b0e4e2477",
   "metadata": {},
   "source": [
    "Q2.Explain the concept of function arguments and parameters in Python.\n",
    "Answer :-\n",
    " In Python, parameters and arguments are concepts that are used to pass information to functions. A parameter is a variable that is defined by the function that will receive a value when the function is called. An argument, on the other hand, is the actual value that is given to the function when it is called.\n",
    "\n",
    "parameters"
   ]
  },
  {
   "cell_type": "code",
   "execution_count": 3,
   "id": "eacb88c9-cec0-4dbd-b420-722c61d5a1c5",
   "metadata": {},
   "outputs": [
    {
     "name": "stdout",
     "output_type": "stream",
     "text": [
      "3\n"
     ]
    }
   ],
   "source": [
    "def sum(a,b):\n",
    "  print(a+b)\n",
    "  \n",
    "sum(1,2)"
   ]
  },
  {
   "cell_type": "raw",
   "id": "98152235-a759-4965-8bb3-edaaec1fd927",
   "metadata": {},
   "source": [
    "Arguments \n",
    "An argument is a value that is passed to a function when it is called. It might be a variable, value or object passed to a function or method as input. They are written when we are calling the function.\n",
    "ex:-"
   ]
  },
  {
   "cell_type": "code",
   "execution_count": 4,
   "id": "75eddf9c-b225-418d-8aa8-cbc26bed6706",
   "metadata": {},
   "outputs": [
    {
     "name": "stdout",
     "output_type": "stream",
     "text": [
      "3\n"
     ]
    }
   ],
   "source": [
    "def sum(a,b):\n",
    "  print(a+b)\n",
    "  \n",
    "\n",
    "sum(1,2)"
   ]
  },
  {
   "cell_type": "raw",
   "id": "b1f3e16f-b092-4edc-a4a9-20dc1d0f3b88",
   "metadata": {},
   "source": [
    "Q3.What are the different ways to define and call a function in Python?\n",
    "Answer:-\n",
    "\n",
    "1.define a function\n",
    "  To define a function, you use the def keyword followed by the name of the function and parentheses (). If the function takes any arguments, they are included within the parentheses. The code block for the function is then indented after the colon.\n",
    "we define a function called greet that takes one argument called name. The function then prints out a greeting message to the console that includes the name argument.\n",
    "ex:-"
   ]
  },
  {
   "cell_type": "code",
   "execution_count": 5,
   "id": "df79371b-5e1a-4887-a12c-9d76b6c789dd",
   "metadata": {},
   "outputs": [],
   "source": [
    "def greet(name):\n",
    "    print(\"Hello, \" + name + \"! How are you?\")"
   ]
  },
  {
   "cell_type": "raw",
   "id": "eef9ef0b-c6a5-4f73-8476-fbdf93cdb1c6",
   "metadata": {},
   "source": [
    "2.call a function\n",
    " Once you have defined a function, you can call it in your code as many times as you need.\n",
    "To call a function in Python, you simply type the name of the function followed by parentheses (). If the function takes any arguments, they are included within the parentheses.\n",
    " we call the greet function with the argument \"John\". The output to the console \n",
    "ex:-"
   ]
  },
  {
   "cell_type": "code",
   "execution_count": 6,
   "id": "3affccbd-da77-4068-a6f7-5034fec290cd",
   "metadata": {},
   "outputs": [
    {
     "name": "stdout",
     "output_type": "stream",
     "text": [
      "Hello, a! How are you?\n"
     ]
    }
   ],
   "source": [
    "greet(\"a\")"
   ]
  },
  {
   "cell_type": "raw",
   "id": "33293d61-5111-4c46-8f05-b1fa850c366f",
   "metadata": {},
   "source": [
    "Q4. What is the purpose of the `return` statement in a Python function?\n",
    "Answer:-\n",
    "A return statement is used to end the execution of the function call and “returns” the result (value of the expression following the return keyword) to the caller. The statements after the return statements are not executed. If the return statement is without any expression, then the special value None is returned. A return statement is overall used to invoke a function so that the passed statements can be executed.\n",
    "Syntax:-\n",
    "  def fun():\n",
    "    statements\n",
    "    .\n",
    "    .\n",
    "    return [expression]\n",
    "Ex:-"
   ]
  },
  {
   "cell_type": "code",
   "execution_count": 7,
   "id": "7601637e-dca9-471c-943c-da52215d3243",
   "metadata": {},
   "outputs": [
    {
     "name": "stdout",
     "output_type": "stream",
     "text": [
      "Result of add function is 5\n",
      "\n",
      "Result of is_true function is True\n"
     ]
    }
   ],
   "source": [
    "def add(a, b):\n",
    "\n",
    "    return a + b\n",
    "\n",
    "def is_true(a):\n",
    "\n",
    "    return bool(a)\n",
    "\n",
    "res = add(2, 3)\n",
    "print(\"Result of add function is {}\".format(res))\n",
    "\n",
    "res = is_true(2<5)\n",
    "print(\"\\nResult of is_true function is {}\".format(res))\n"
   ]
  },
  {
   "cell_type": "raw",
   "id": "b1108eb2-f55c-4e88-b8fd-1ce4f63500ee",
   "metadata": {},
   "source": [
    "Q5. What are iterators in Python and how do they differ from iterables?\n",
    "Answer:-\n",
    "  iterators and iterables are fundamental concepts that are closely linked but serve different purposes. Understanding the distinction between the two is crucial for efficient data processing and iteration in Python programming.\n",
    "\n",
    "Iterators:\n",
    "An iterator in Python is an object that represents a stream of data. It is responsible for returning elements from a collection one at a time. An iterator must implement two methods to conform to the iterator protocol\n",
    "__iter__(): This method initializes the iterator and must return the iterator object itself, usually self.\n",
    "__next__(): This method retrieves the next item from the stream. When there are no more items to return, it raises a StopIteration exception, signaling the end of the iteration.\n",
    "ex:-"
   ]
  },
  {
   "cell_type": "code",
   "execution_count": 12,
   "id": "9c6e2a9e-121d-4360-ae10-b84ad85646dd",
   "metadata": {},
   "outputs": [],
   "source": [
    "class CountIterator:\n",
    "    def __init__(self, limit):\n",
    "        self.limit = limit\n",
    "        self.count = 0\n",
    "        \n",
    "    def __iter__(self):\n",
    "        return self\n",
    "\n",
    "    def __next__(self):\n",
    "        if self.count < self.limit:\n",
    "            self.count += 1\n",
    "            return self.count\n",
    "        else:\n",
    "           raise StopIteration"
   ]
  },
  {
   "cell_type": "raw",
   "id": "70864707-78f0-471b-a8a0-a5de932a4004",
   "metadata": {},
   "source": [
    "Iterables:\n",
    "An iterable is any Python object you can get an iterator from. Iterables are data structures that hold elements you can iterate over, like lists, tuples, dictionaries, and sets\n",
    "They implement the .__iter__() method that returns an iterator, which then allows you to use the for loop or other iteration mechanisms.\n",
    "ex:-"
   ]
  },
  {
   "cell_type": "code",
   "execution_count": 13,
   "id": "3ed11b1f-249f-43a3-8449-8dcf32936847",
   "metadata": {},
   "outputs": [
    {
     "name": "stdout",
     "output_type": "stream",
     "text": [
      "1\n",
      "2\n"
     ]
    }
   ],
   "source": [
    "my_list = [1, 2, 3]\n",
    "my_iter = iter(my_list)\n",
    "print(next(my_iter))\n",
    "print(next(my_iter))"
   ]
  },
  {
   "cell_type": "raw",
   "id": "c56f474c-0c44-418e-81cc-d822eec2b61d",
   "metadata": {},
   "source": [
    "Q6.Explain the concept of generators in Python and how they are defined.\n",
    "Answer:-\n",
    " A generator function in Python is defined like a normal function, but whenever it needs to generate a value, it does so with the yield keyword rather than return. If the body of a def contains yield, the function automatically becomes a Python generator function. \n",
    "\n",
    "Create a Generator in Python\n",
    "In Python, we can create a generator function by simply using the def keyword and the yield keyword. The generator has the following syntax in Python:\n",
    "\n"
   ]
  },
  {
   "cell_type": "code",
   "execution_count": 38,
   "id": "f6c10c88-a86a-485d-960c-b9f8cfc9752c",
   "metadata": {},
   "outputs": [],
   "source": [
    "def function_name():\n",
    "    yield statement \n"
   ]
  },
  {
   "cell_type": "raw",
   "id": "50e6459d-b561-47c4-8f9f-08a7382a9a43",
   "metadata": {},
   "source": [
    "ex:-\n",
    " we will create a simple generator that will yield three integers. Then we will print these integers by using Python for loop."
   ]
  },
  {
   "cell_type": "code",
   "execution_count": 15,
   "id": "5780d402-91a5-4ec0-889e-a1207ec71d55",
   "metadata": {},
   "outputs": [
    {
     "name": "stdout",
     "output_type": "stream",
     "text": [
      "1\n",
      "2\n",
      "3\n"
     ]
    }
   ],
   "source": [
    "def simpleGeneratorFun():\n",
    "    yield 1            \n",
    "    yield 2            \n",
    "    yield 3            \n",
    " \n",
    "for value in simpleGeneratorFun(): \n",
    "    print(value)\n"
   ]
  },
  {
   "cell_type": "raw",
   "id": "564cac34-bb5d-4840-b4f4-507d52cf725e",
   "metadata": {},
   "source": [
    "Q7. What are the advantages of using generators over regular functions?\n",
    "Answer:-\n",
    "There are several advantages to using generators over regular loops. Here are a few of the most important ones:\n",
    "\n",
    "1.Memory Efficiency: One of the biggest advantages of generators is that they are memory efficient. Since a generator yields its values one by one, it does not need to store all of the values in memory at once. This can be especially useful when working with large data sets, as it reduces the risk of running out of memory.\n",
    "\n",
    "2.Readability: Generators can make your code easier to read and understand. By breaking up the iteration process into smaller chunks, you can write code that is more concise and easier to follow.\n",
    "\n",
    "3.Speed: Generators can also be faster than regular loops, especially when working with large data sets. This is because they avoid the overhead of creating a list or other data structure to store the results."
   ]
  },
  {
   "cell_type": "raw",
   "id": "b2e09030-6974-4196-b80b-a67ffc68a9bf",
   "metadata": {},
   "source": [
    "Q8.What is a lambda function in Python and when is it typically used?\n",
    "Answer:-\n",
    " Lambda Function, also referred to as ‘Anonymous function’ is same as a regular python function but can be defined without a name. While normal functions are defined using the def keyword, anonymous functions are defined using the lambda keyword. However,they are restricted to single line of expression. They can take in mutliple parameters as in regular functions.\n",
    "\n",
    "The syntax for lambda function is given by : lambda arguments: expression Notice, there can be any number of arguments but can contain only a single expression. There is no return statement which is usually present in the def function syntax. The function will simply return the expression value even when there is no return statement.\n",
    "\n",
    "2.why lambda() is used\n",
    "The power of lambda is better shown when you use them as an anonymous function inside another function.\n",
    "\n",
    "Say you have a function definition that takes one argument, and that argument will be multiplied with an unknown number\n",
    "\n",
    "ex:-"
   ]
  },
  {
   "cell_type": "code",
   "execution_count": 16,
   "id": "452232a4-d76d-46c1-be06-fd3f56b86480",
   "metadata": {},
   "outputs": [
    {
     "name": "stdout",
     "output_type": "stream",
     "text": [
      "22\n"
     ]
    }
   ],
   "source": [
    "def myfunc(n):\n",
    "  return lambda a : a * n\n",
    "\n",
    "mydoubler = myfunc(2)\n",
    "\n",
    "print(mydoubler(11))"
   ]
  },
  {
   "cell_type": "raw",
   "id": "173be810-ef34-4a6e-bd71-52d930c9b1cb",
   "metadata": {},
   "source": [
    "Q9.Explain the purpose and usage of the `map()` function in Python.\n",
    "Answer:-\n",
    "\n",
    "map() function returns a map object(which is an iterator) of the results after applying the given function to each item of a given iterable (list, tuple etc.)\n",
    "There are many more functions like map() functions that are basic concepts of python . These are building blocks for data manipulation and to learn advanced techniques in data science and machine learning, checkout our course Complete Machine Learning & Data Science Program . This course covers everything from basic Python functions to complex machine learning algorithms, equipping you with the skills needed to excel in the field.\n",
    "\n",
    "Syntax:-\n",
    "  map(fun, iter) \n",
    "\n",
    "Ex:-"
   ]
  },
  {
   "cell_type": "code",
   "execution_count": 17,
   "id": "c0427a66-beaa-477a-9d33-6e11ac17433a",
   "metadata": {},
   "outputs": [
    {
     "name": "stdout",
     "output_type": "stream",
     "text": [
      "[2, 4, 6, 8]\n"
     ]
    }
   ],
   "source": [
    "def addition(n):\n",
    "    return n + n\n",
    "\n",
    "numbers = (1, 2, 3, 4)\n",
    "result = map(addition, numbers)\n",
    "print(list(result))"
   ]
  },
  {
   "cell_type": "raw",
   "id": "6d915e81-5daf-46df-867d-bd12dc3647ab",
   "metadata": {},
   "source": [
    "Q10. What is the difference between `map()`, `reduce()`, and `filter()` functions in Python?\n",
    "Answer:-\n",
    "\n",
    "                 map()                                      reduce()                                  filter()\n",
    "1.   The map () function returns a map       The reduce function is used to apply a particular     The filter() method filters the given sequence with  \n",
    "    object(which is an iterator) of the     function passed in its argument to all of the list     the help of a function that tests each element\n",
    "    results after applying the given        elements mentioned in the sequence passed along.This   in the sequence to be true or not. \n",
    "    function to each item of a given        function is defined in “functools” module.\n",
    "    iterable (list, tuple, etc.).\n",
    "\n",
    "2.  Syntax: map(fun, iter)                  Syntax: reduce(func, iterable[, initial])              Syntax: filter(function, sequence)\n",
    "\n"
   ]
  },
  {
   "cell_type": "code",
   "execution_count": 18,
   "id": "46c2e34c-b2a9-4501-ab00-ffd5267925c3",
   "metadata": {},
   "outputs": [
    {
     "name": "stdout",
     "output_type": "stream",
     "text": [
      "[10, 12, 14, 16]\n"
     ]
    }
   ],
   "source": [
    "#example of map()\n",
    "def double(n):\n",
    "    return n * 2\n",
    "\n",
    "numbers = [5, 6, 7, 8]\n",
    "result = map(double, numbers)\n",
    "print(list(result))"
   ]
  },
  {
   "cell_type": "code",
   "execution_count": 21,
   "id": "f2d4b050-29fb-402c-8776-0ee553b227a4",
   "metadata": {},
   "outputs": [
    {
     "name": "stdout",
     "output_type": "stream",
     "text": [
      "Product of list elements: 24\n"
     ]
    }
   ],
   "source": [
    "#example of reduce()\n",
    "import functools\n",
    "\n",
    "numbers = [1, 2, 3, 4]\n",
    "\n",
    "product = functools.reduce(lambda x, y: x * y, numbers)\n",
    "print(\"Product of list elements:\", product)\n"
   ]
  },
  {
   "cell_type": "code",
   "execution_count": 22,
   "id": "8bc307a3-4a18-46b5-8529-bafce7330798",
   "metadata": {},
   "outputs": [
    {
     "name": "stdout",
     "output_type": "stream",
     "text": [
      "Even numbers: [2, 4, 6, 8, 10]\n"
     ]
    }
   ],
   "source": [
    "#example of filter()\n",
    "def is_even(n):\n",
    "    return n % 2 == 0\n",
    "\n",
    "numbers = [1, 2, 3, 4, 5, 6, 7, 8, 9, 10]\n",
    "\n",
    "even_numbers = filter(is_even, numbers)\n",
    "print(\"Even numbers:\", list(even_numbers))  \n"
   ]
  },
  {
   "cell_type": "raw",
   "id": "13acc05c-e127-47bb-8eca-a0051fb35bc7",
   "metadata": {},
   "source": [
    "Q11.  Using pen & Paper write the internal mechanism for sum operation using  reduce function on this given\n",
    "list:[47,11,42,13]; \n",
    "Answer:-\n",
    "\n",
    "   on google doc(uploaded on drive)"
   ]
  },
  {
   "cell_type": "code",
   "execution_count": null,
   "id": "e5845fc4-55e6-4977-b8d3-ba9cd884cf4d",
   "metadata": {},
   "outputs": [],
   "source": []
  }
 ],
 "metadata": {
  "kernelspec": {
   "display_name": "Python 3 (ipykernel)",
   "language": "python",
   "name": "python3"
  },
  "language_info": {
   "codemirror_mode": {
    "name": "ipython",
    "version": 3
   },
   "file_extension": ".py",
   "mimetype": "text/x-python",
   "name": "python",
   "nbconvert_exporter": "python",
   "pygments_lexer": "ipython3",
   "version": "3.12.4"
  }
 },
 "nbformat": 4,
 "nbformat_minor": 5
}
